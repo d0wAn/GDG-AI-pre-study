{
 "cells": [
  {
   "cell_type": "markdown",
   "metadata": {},
   "source": [
    "Program 1"
   ]
  },
  {
   "cell_type": "code",
   "execution_count": 6,
   "metadata": {},
   "outputs": [
    {
     "name": "stdout",
     "output_type": "stream",
     "text": [
      "hello python\n"
     ]
    }
   ],
   "source": [
    "print(\"hello python\")"
   ]
  },
  {
   "cell_type": "markdown",
   "metadata": {},
   "source": [
    "Program 2"
   ]
  },
  {
   "cell_type": "code",
   "execution_count": 13,
   "metadata": {},
   "outputs": [
    {
     "name": "stdout",
     "output_type": "stream",
     "text": [
      "sum : 2 + 4 = 6\n"
     ]
    }
   ],
   "source": [
    "n1=int(input(\"Enter a number for addition : \"))\n",
    "n2=int(input(\"Enter a number for addition : \"))\n",
    "print(f\"sum : {n1} + {n2} = {n1+n2}\")"
   ]
  },
  {
   "cell_type": "code",
   "execution_count": 16,
   "metadata": {},
   "outputs": [
    {
     "name": "stdout",
     "output_type": "stream",
     "text": [
      "Division : 5.0 / 1.0 = 5.0\n"
     ]
    }
   ],
   "source": [
    "n1=float(input(\"Enter a Dividing Number\"))\n",
    "n2=float(input(\"Enter a Divider\"))\n",
    "print(f\"Division : {n1} / {n2} = {n1/n2}\")"
   ]
  },
  {
   "cell_type": "markdown",
   "metadata": {},
   "source": [
    "Program 3"
   ]
  },
  {
   "cell_type": "code",
   "execution_count": 17,
   "metadata": {},
   "outputs": [
    {
     "name": "stdout",
     "output_type": "stream",
     "text": [
      "The area of this triagle is 10.0\n"
     ]
    }
   ],
   "source": [
    "a=float(input(\"Enter width\"))\n",
    "b=float(input(\"Enter height\"))\n",
    "print(f\"The area of this triagle is {0.5*a*b}\")"
   ]
  },
  {
   "cell_type": "markdown",
   "metadata": {},
   "source": [
    "Program 4"
   ]
  },
  {
   "cell_type": "code",
   "execution_count": 18,
   "metadata": {},
   "outputs": [
    {
     "name": "stdout",
     "output_type": "stream",
     "text": [
      "this is a odd number\n"
     ]
    }
   ],
   "source": [
    "num=int(input(\"Enter a number what you check\"))\n",
    "if num%2==0 :\n",
    "    print(\"This is a even number\")\n",
    "else :\n",
    "    print(\"This is a odd number\")"
   ]
  },
  {
   "cell_type": "markdown",
   "metadata": {},
   "source": [
    "Program 5"
   ]
  },
  {
   "cell_type": "code",
   "execution_count": 22,
   "metadata": {},
   "outputs": [
    {
     "name": "stdout",
     "output_type": "stream",
     "text": [
      "The solutions of this equation are -1.0 and -3.0\n"
     ]
    }
   ],
   "source": [
    "import math\n",
    "a=float(input(\"Enter first coefficient :\"))\n",
    "if a==0:\n",
    "    a=float(input(\"first coefficient should not be 0, please another coefficient:\"))\n",
    "b=float(input(\"Enter second coefficient :\"))\n",
    "c=float(input(\"Enter third coefficient :\"))\n",
    "\n",
    "sol1=(-b+math.sqrt(abs(b*b-4*a*c)))/(2*a)\n",
    "sol2=(-b-math.sqrt(abs(b*b-4*a*c)))/(2*a)\n",
    "\n",
    "if sol1==sol2:\n",
    "    print(f\"The solution has multiple root {sol1}\")\n",
    "elif (b*b-4*a*c)<0:\n",
    "    print(f\"It could not obtain the root on Real space \")\n",
    "else :\n",
    "    print(f\"The solutions of this equation are {sol1} and {sol2}\")"
   ]
  },
  {
   "cell_type": "markdown",
   "metadata": {},
   "source": [
    "Program 6"
   ]
  },
  {
   "cell_type": "code",
   "execution_count": 23,
   "metadata": {},
   "outputs": [
    {
     "name": "stdout",
     "output_type": "stream",
     "text": [
      "a=1 and b=3 are changed into\n",
      "a=3 and b=1.\n"
     ]
    }
   ],
   "source": [
    "a=int(input())\n",
    "b=int(input())\n",
    "\n",
    "print(f\"a={a} and b={b} are changed into\")\n",
    "a,b=b,a\n",
    "print(f\"a={a} and b={b}.\")"
   ]
  },
  {
   "cell_type": "markdown",
   "metadata": {},
   "source": [
    "Program 7"
   ]
  },
  {
   "cell_type": "code",
   "execution_count": 28,
   "metadata": {},
   "outputs": [
    {
     "name": "stdout",
     "output_type": "stream",
     "text": [
      "This number is prime number\n"
     ]
    }
   ],
   "source": [
    "num=int(input(\"Enter a number : \"))\n",
    "if num==1:\n",
    "    num=int(input(\"This is not a prime number, Please Enter other number :\"))\n",
    "i=2\n",
    "cnt=0\n",
    "while num%i>0:\n",
    "    if num%i==0:\n",
    "        cnt+=1\n",
    "    i+=1\n",
    "\n",
    "if cnt==0:\n",
    "    print(\"This number is prime number\")\n",
    "else:\n",
    "    print(\"This is not a prime number\")"
   ]
  },
  {
   "cell_type": "code",
   "execution_count": null,
   "metadata": {},
   "outputs": [],
   "source": []
  }
 ],
 "metadata": {
  "kernelspec": {
   "display_name": "base",
   "language": "python",
   "name": "python3"
  },
  "language_info": {
   "codemirror_mode": {
    "name": "ipython",
    "version": 3
   },
   "file_extension": ".py",
   "mimetype": "text/x-python",
   "name": "python",
   "nbconvert_exporter": "python",
   "pygments_lexer": "ipython3",
   "version": "3.12.4"
  }
 },
 "nbformat": 4,
 "nbformat_minor": 2
}
